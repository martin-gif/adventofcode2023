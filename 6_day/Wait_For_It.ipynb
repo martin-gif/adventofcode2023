{
 "cells": [
  {
   "cell_type": "code",
   "execution_count": 20,
   "id": "initial_id",
   "metadata": {
    "collapsed": true,
    "ExecuteTime": {
     "end_time": "2023-12-06T18:28:50.351419Z",
     "start_time": "2023-12-06T18:28:50.345282Z"
    }
   },
   "outputs": [],
   "source": [
    "times = [40,82,91,66]\n",
    "distances = [277,1338,1349,1063]"
   ]
  },
  {
   "cell_type": "code",
   "execution_count": 17,
   "outputs": [],
   "source": [
    "def testForWin(time, distance, pressTime) -> bool:\n",
    "    race_time = time - pressTime\n",
    "    if race_time*pressTime >= distance:\n",
    "        return (True)\n",
    "    else:\n",
    "        return (False)"
   ],
   "metadata": {
    "collapsed": false,
    "ExecuteTime": {
     "end_time": "2023-12-06T18:26:36.549634Z",
     "start_time": "2023-12-06T18:26:36.543975Z"
    }
   },
   "id": "ded27d391c273903"
  },
  {
   "cell_type": "code",
   "execution_count": 18,
   "outputs": [
    {
     "name": "stdout",
     "output_type": "stream",
     "text": [
      "0 False\n",
      "1 False\n",
      "2 True\n",
      "3 True\n",
      "4 True\n",
      "5 True\n",
      "6 False\n",
      "7 False\n",
      "8 False\n",
      "9 False\n"
     ]
    }
   ],
   "source": [
    "for i in range(10):\n",
    "    print(i,testForWin(7,9,i))"
   ],
   "metadata": {
    "collapsed": false,
    "ExecuteTime": {
     "end_time": "2023-12-06T18:26:39.045393Z",
     "start_time": "2023-12-06T18:26:39.041825Z"
    }
   },
   "id": "dd6afa67d87e78d2"
  },
  {
   "cell_type": "markdown",
   "source": [],
   "metadata": {
    "collapsed": false
   },
   "id": "351551d379f1d44d"
  },
  {
   "cell_type": "code",
   "execution_count": 28,
   "outputs": [
    {
     "name": "stdout",
     "output_type": "stream",
     "text": [
      "ways to win 505494\n"
     ]
    }
   ],
   "source": [
    "array_wins = []\n",
    "for time, distance in zip(times,distances):\n",
    "    wins = 0\n",
    "    for pressed in range(time+1):\n",
    "        wins += int(testForWin(time,distance,pressed))\n",
    "    array_wins.append(wins)\n",
    "    \n",
    "#print(array_wins)\n",
    "result = 1\n",
    "for x in array_wins:\n",
    "    result*=x\n",
    "\n",
    "print(\"ways to win\",result)"
   ],
   "metadata": {
    "collapsed": false,
    "ExecuteTime": {
     "end_time": "2023-12-06T18:30:37.121035Z",
     "start_time": "2023-12-06T18:30:37.112372Z"
    }
   },
   "id": "3a00844c6f4fbe95"
  },
  {
   "cell_type": "markdown",
   "source": [
    "### Part 2"
   ],
   "metadata": {
    "collapsed": false
   },
   "id": "e17a21cba84a44a2"
  },
  {
   "cell_type": "code",
   "execution_count": 29,
   "outputs": [],
   "source": [
    "correct_time = 40829166\n",
    "correct_distance = 277133813491063\n",
    "\n",
    "correct_wins = 0\n",
    "for pressed in range(correct_time+1):\n",
    "    correct_wins += int(testForWin(correct_time,correct_distance,pressed))"
   ],
   "metadata": {
    "collapsed": false,
    "ExecuteTime": {
     "end_time": "2023-12-06T18:36:01.679844Z",
     "start_time": "2023-12-06T18:35:54.044594Z"
    }
   },
   "id": "e60c8f9b6592176c"
  },
  {
   "cell_type": "code",
   "execution_count": 30,
   "outputs": [
    {
     "name": "stdout",
     "output_type": "stream",
     "text": [
      "23632299\n"
     ]
    }
   ],
   "source": [
    "print(correct_wins)"
   ],
   "metadata": {
    "collapsed": false,
    "ExecuteTime": {
     "end_time": "2023-12-06T18:36:04.338426Z",
     "start_time": "2023-12-06T18:36:04.328468Z"
    }
   },
   "id": "2c8569adf5686a10"
  }
 ],
 "metadata": {
  "kernelspec": {
   "display_name": "Python 3",
   "language": "python",
   "name": "python3"
  },
  "language_info": {
   "codemirror_mode": {
    "name": "ipython",
    "version": 2
   },
   "file_extension": ".py",
   "mimetype": "text/x-python",
   "name": "python",
   "nbconvert_exporter": "python",
   "pygments_lexer": "ipython2",
   "version": "2.7.6"
  }
 },
 "nbformat": 4,
 "nbformat_minor": 5
}
