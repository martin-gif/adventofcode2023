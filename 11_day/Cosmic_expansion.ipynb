{
 "cells": [
  {
   "cell_type": "code",
   "execution_count": 1,
   "id": "initial_id",
   "metadata": {
    "collapsed": true,
    "ExecuteTime": {
     "end_time": "2023-12-11T17:43:02.513444Z",
     "start_time": "2023-12-11T17:43:02.468111Z"
    }
   },
   "outputs": [],
   "source": [
    "import numpy as np\n",
    "import itertools"
   ]
  },
  {
   "cell_type": "code",
   "execution_count": 2,
   "outputs": [],
   "source": [
    "input = open(\"input\", \"r\")\n",
    "data = []\n",
    "for row in input:\n",
    "    data.append([row.replace(\"\\n\",\"\")])\n",
    "#data = np.array(data)\n"
   ],
   "metadata": {
    "collapsed": false,
    "ExecuteTime": {
     "end_time": "2023-12-11T17:43:02.553037Z",
     "start_time": "2023-12-11T17:43:02.531389Z"
    }
   },
   "id": "c2734ef556ef416"
  },
  {
   "cell_type": "code",
   "execution_count": 3,
   "outputs": [],
   "source": [
    "array = []\n",
    "\n",
    "for line in data:\n",
    "    numer_array = []\n",
    "    for char in line[0]:\n",
    "        if char == \".\":\n",
    "            numer_array.append(0)\n",
    "        elif char == \"#\":\n",
    "            numer_array.append(1)\n",
    "        else:print(\"error\")\n",
    "    array.append(numer_array)\n",
    "\n",
    "number_matrix = np.array(array)\n"
   ],
   "metadata": {
    "collapsed": false,
    "ExecuteTime": {
     "end_time": "2023-12-11T17:43:02.570758Z",
     "start_time": "2023-12-11T17:43:02.551141Z"
    }
   },
   "id": "216fdafe74491565"
  },
  {
   "cell_type": "code",
   "execution_count": 4,
   "outputs": [],
   "source": [
    "def getDistance(val1,val2):\n",
    "    dist = 0\n",
    "    for x1, x2 in zip(val1,val2):\n",
    "        diff = x2 - x1\n",
    "        dist += abs(diff)\n",
    "    return dist\n",
    "    \n",
    "    \n",
    "#print(getDistance([0,0],[10,10]))"
   ],
   "metadata": {
    "collapsed": false,
    "ExecuteTime": {
     "end_time": "2023-12-11T17:43:02.570901Z",
     "start_time": "2023-12-11T17:43:02.557247Z"
    }
   },
   "id": "1bfab72a92540bed"
  },
  {
   "cell_type": "code",
   "execution_count": 5,
   "outputs": [
    {
     "name": "stdout",
     "output_type": "stream",
     "text": [
      "Summe for part 1: 9936914\n",
      "Summe for part 2: 327857281218\n"
     ]
    }
   ],
   "source": [
    "def generate_pseudo_matrix(matrix,x_scale, y_sclae):\n",
    "    x_range, y_range = matrix.shape\n",
    "    pseudo_row_range = np.ones(x_range)\n",
    "    pseudo_colum_range = np.ones(y_range)\n",
    "    \n",
    "    index_zero_colums = []\n",
    "    for i in range(len(matrix)):\n",
    "        if 1 not in matrix[:,i]:\n",
    "            index_zero_colums.append(i)\n",
    "            pseudo_colum_range[i] = y_sclae\n",
    "\n",
    "    list_rows = len(data[0])\n",
    "    index_zero_rows = []\n",
    "    for i in range(list_rows):\n",
    "        if 1 not in matrix[i]:\n",
    "            index_zero_rows.append(i)\n",
    "            pseudo_row_range[i] = x_scale\n",
    "    \n",
    "    pseudo_row_range_summed = pseudo_row_range.copy()\n",
    "    pseudo_colum_range_summed = pseudo_colum_range.copy()\n",
    "    \n",
    "    for i in range(1,len(pseudo_row_range_summed)):\n",
    "        pseudo_row_range_summed[i] = pseudo_row_range_summed[i-1] + pseudo_row_range[i]\n",
    "    \n",
    "    for j in range(1,len(pseudo_colum_range_summed)):\n",
    "        pseudo_colum_range_summed[j] = pseudo_colum_range_summed[j-1] + pseudo_colum_range[j]\n",
    "        \n",
    "    #print(\"row Range\",pseudo_row_range_summed)\n",
    "    #print(\"col Range\",pseudo_colum_range_summed)\n",
    "        \n",
    "    cords = np.array(np.where(matrix==1)).T\n",
    "    pair_array = itertools.combinations(cords, r=2)\n",
    "    \n",
    "    \n",
    "    array_values = []\n",
    "    for i,pair in enumerate(pair_array):\n",
    "        #print(pair[0], end=\" \")\n",
    "        x1, x2 = pair[0][0], pair[1][0]\n",
    "        y1, y2 = pair[0][1], pair[1][1]\n",
    "        \n",
    "        val1 = (pseudo_row_range_summed[x1],pseudo_colum_range_summed[y1])\n",
    "        val2 = (pseudo_row_range_summed[x2],pseudo_colum_range_summed[y2])\n",
    "        distance = getDistance(val1,val2)\n",
    "        array_values.append(distance)\n",
    "        #print(val1)\n",
    "        \n",
    "        if x1 == 5 and y2 == 4:\n",
    "            #print(pair)\n",
    "            #print(val1,val2,distance)\n",
    "            pass\n",
    "    #print(i)\n",
    "    \n",
    "    return (np.array(array_values).sum())\n",
    "    \n",
    "matrix = number_matrix.copy()\n",
    "\n",
    "result1 = generate_pseudo_matrix(matrix, 2, 2)\n",
    "print(\"Summe for part 1:\", int(result1))\n",
    "\n",
    "result2 = generate_pseudo_matrix(matrix, 1000000, 1000000)\n",
    "print(\"Summe for part 2:\", int(result2))"
   ],
   "metadata": {
    "collapsed": false,
    "ExecuteTime": {
     "end_time": "2023-12-11T17:43:02.837938Z",
     "start_time": "2023-12-11T17:43:02.598240Z"
    }
   },
   "id": "2d72c22c4e655d43"
  }
 ],
 "metadata": {
  "kernelspec": {
   "display_name": "Python 3",
   "language": "python",
   "name": "python3"
  },
  "language_info": {
   "codemirror_mode": {
    "name": "ipython",
    "version": 2
   },
   "file_extension": ".py",
   "mimetype": "text/x-python",
   "name": "python",
   "nbconvert_exporter": "python",
   "pygments_lexer": "ipython2",
   "version": "2.7.6"
  }
 },
 "nbformat": 4,
 "nbformat_minor": 5
}
