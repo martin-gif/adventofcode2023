{
 "cells": [
  {
   "cell_type": "code",
   "execution_count": 1,
   "id": "initial_id",
   "metadata": {
    "collapsed": true,
    "ExecuteTime": {
     "end_time": "2023-12-09T08:58:54.765936Z",
     "start_time": "2023-12-09T08:58:54.707791Z"
    }
   },
   "outputs": [],
   "source": [
    "import numpy as np"
   ]
  },
  {
   "cell_type": "code",
   "execution_count": 136,
   "outputs": [
    {
     "name": "stdout",
     "output_type": "stream",
     "text": [
      "data [8.0000000e+00 1.0000000e+01 2.1000000e+01 6.2000000e+01 1.7600000e+02\n",
      " 4.4800000e+02 1.0420000e+03 2.2590000e+03 4.6340000e+03 9.1160000e+03\n",
      " 1.7421000e+04 3.2738000e+04 6.1151000e+04 1.1450600e+05 2.1617000e+05\n",
      " 4.1253000e+05 7.9582200e+05 1.5492620e+06 3.0359990e+06 5.9739500e+06\n",
      " 1.1778148e+07]\n"
     ]
    }
   ],
   "source": [
    "data = np.loadtxt(\"input\")\n",
    "print(\"data\",(data[1]))"
   ],
   "metadata": {
    "collapsed": false,
    "ExecuteTime": {
     "end_time": "2023-12-09T17:36:41.113484Z",
     "start_time": "2023-12-09T17:36:41.107880Z"
    }
   },
   "id": "440b1d508465a5de"
  },
  {
   "cell_type": "code",
   "execution_count": 50,
   "outputs": [],
   "source": [
    "def arraydiff(inputArray):\n",
    "    newArray = inputArray[1::]\n",
    "    diff = newArray - inputArray[:-1:]\n",
    "    return diff"
   ],
   "metadata": {
    "collapsed": false,
    "ExecuteTime": {
     "end_time": "2023-12-09T09:08:11.308927Z",
     "start_time": "2023-12-09T09:08:11.305794Z"
    }
   },
   "id": "7ed25458918bca44"
  },
  {
   "cell_type": "code",
   "execution_count": 158,
   "outputs": [],
   "source": [
    "endSumValues = []\n",
    "starSumValues = []\n",
    "\n",
    "\n",
    "for i in range(len(data)):\n",
    "    currentArray = data[i]\n",
    "    #currentArray = np.array([10,13,16,21,30,45])\n",
    "    \n",
    "    #print(\"\",currentArray)\n",
    "    \n",
    "    arrayStack = [currentArray]\n",
    "    while not np.all(currentArray == 0): # check if currentarray only contains zeros\n",
    "        currentArray = arraydiff(currentArray)\n",
    "        arrayStack.append(currentArray)\n",
    "        #print(\"\",currentArray)\n",
    "    \n",
    "    lastNumber = 0\n",
    "    firstNumber = 0 \n",
    "    for array in arrayStack[::-1]:\n",
    "        lastNumber += array[-1]\n",
    "        firstNumber = array[0] - firstNumber\n",
    "        \n",
    "        #print(firstNumber,array)\n",
    "    \n",
    "    #print(firstNumber)\n",
    "    \n",
    "    endSumValues.append(lastNumber)\n",
    "    starSumValues.append(firstNumber)\n",
    "        "
   ],
   "metadata": {
    "collapsed": false,
    "ExecuteTime": {
     "end_time": "2023-12-09T17:47:53.923715Z",
     "start_time": "2023-12-09T17:47:53.919638Z"
    }
   },
   "id": "db6148309f448504"
  },
  {
   "cell_type": "code",
   "execution_count": 159,
   "outputs": [
    {
     "name": "stdout",
     "output_type": "stream",
     "text": [
      "Summ of the last values 1969958987\n",
      "Summ of the first values 1068\n"
     ]
    }
   ],
   "source": [
    "print(\"Summ of the last values\",int(np.array(endSumValues).sum()))\n",
    "print(\"Summ of the first values\",int(np.array(starSumValues).sum()))"
   ],
   "metadata": {
    "collapsed": false,
    "ExecuteTime": {
     "end_time": "2023-12-09T17:47:56.898356Z",
     "start_time": "2023-12-09T17:47:56.891282Z"
    }
   },
   "id": "b11b6a1817def593"
  }
 ],
 "metadata": {
  "kernelspec": {
   "display_name": "Python 3",
   "language": "python",
   "name": "python3"
  },
  "language_info": {
   "codemirror_mode": {
    "name": "ipython",
    "version": 2
   },
   "file_extension": ".py",
   "mimetype": "text/x-python",
   "name": "python",
   "nbconvert_exporter": "python",
   "pygments_lexer": "ipython2",
   "version": "2.7.6"
  }
 },
 "nbformat": 4,
 "nbformat_minor": 5
}
