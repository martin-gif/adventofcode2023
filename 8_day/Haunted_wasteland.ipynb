{
 "cells": [
  {
   "cell_type": "code",
   "execution_count": 1,
   "id": "initial_id",
   "metadata": {
    "collapsed": true,
    "ExecuteTime": {
     "end_time": "2023-12-09T18:03:50.247362Z",
     "start_time": "2023-12-09T18:03:50.170465Z"
    }
   },
   "outputs": [],
   "source": [
    "import numpy as np "
   ]
  },
  {
   "cell_type": "code",
   "execution_count": 15,
   "outputs": [
    {
     "name": "stdout",
     "output_type": "stream",
     "text": [
      "[['PGQ ' ' (QRB, MJB)']\n",
      " ['JQC ' ' (MNM, TLQ)']\n",
      " ['HNP ' ' (NKD, PJT)']\n",
      " ...\n",
      " ['SXG ' ' (GVS, RBB)']\n",
      " ['LTL ' ' (VNM, CVM)']\n",
      " ['KCR ' ' (THX, VBG)']]\n"
     ]
    }
   ],
   "source": [
    "data = np.loadtxt(\"input\", dtype=str, skiprows=1, usecols=(0,2,3), converters={2:np.rep})\n",
    "print(data)"
   ],
   "metadata": {
    "collapsed": false,
    "ExecuteTime": {
     "end_time": "2023-12-09T19:44:25.011687Z",
     "start_time": "2023-12-09T19:44:25.006725Z"
    }
   },
   "id": "54a9c6ebb487c333"
  }
 ],
 "metadata": {
  "kernelspec": {
   "display_name": "Python 3",
   "language": "python",
   "name": "python3"
  },
  "language_info": {
   "codemirror_mode": {
    "name": "ipython",
    "version": 2
   },
   "file_extension": ".py",
   "mimetype": "text/x-python",
   "name": "python",
   "nbconvert_exporter": "python",
   "pygments_lexer": "ipython2",
   "version": "2.7.6"
  }
 },
 "nbformat": 4,
 "nbformat_minor": 5
}
